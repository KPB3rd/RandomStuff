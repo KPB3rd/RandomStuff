{
 "cells": [
  {
   "cell_type": "code",
   "execution_count": 97,
   "id": "582e8623-388b-4fc9-82b5-63594d0fb242",
   "metadata": {},
   "outputs": [],
   "source": [
    "import numpy as np\n",
    "from scipy.stats import norm\n",
    "from scipy.optimize import minimize_scalar\n",
    "from matplotlib import pyplot as plt\n",
    "from ipywidgets import interact, widgets, FloatSlider, interactive_output\n",
    "\n",
    "from IPython.display import display, clear_output\n"
   ]
  },
  {
   "cell_type": "code",
   "execution_count": 105,
   "id": "3963d6fd-8c64-47b2-b972-bbf50a73140c",
   "metadata": {},
   "outputs": [],
   "source": [
    "def plotNormal(sigma):\n",
    "    # Calculate the probability density function (PDF) values for the Gaussian distribution\n",
    "    pdf_values = norm.pdf(x, 0, sigma)\n",
    "    \n",
    "    plt.xlabel('x')\n",
    "    plt.ylabel('Probability Density')\n",
    "    plt.title('Gaussian Distribution')\n",
    "    plt.ylim(0, 1.0)\n",
    "    plt.grid(True)\n",
    "    plt.plot(x, pdf_values, 'r-', lw=2)\n",
    "    "
   ]
  },
  {
   "cell_type": "code",
   "execution_count": 106,
   "id": "d09ec735-cbb5-4afe-8d23-58cec3589d7a",
   "metadata": {},
   "outputs": [
    {
     "data": {
      "application/vnd.jupyter.widget-view+json": {
       "model_id": "fc6fea5f04a241ccb92776cbdf74d047",
       "version_major": 2,
       "version_minor": 0
      },
      "text/plain": [
       "interactive(children=(FloatSlider(value=1.0, description='Sigma', max=2.0, min=0.1), Output()), _dom_classes=(…"
      ]
     },
     "metadata": {},
     "output_type": "display_data"
    }
   ],
   "source": [
    "sigma_slider = FloatSlider(value=1.0, min=0.1, max=2.0, step=0.1, description='Sigma')\n",
    "\n",
    "interact(plotNormal, sigma=sigma_slider);\n",
    "\n",
    "plt.show()"
   ]
  },
  {
   "cell_type": "code",
   "execution_count": 54,
   "id": "dd9d36de-9540-442c-aa7b-a5f6a7089140",
   "metadata": {},
   "outputs": [],
   "source": [
    "def plotMixed(sigma, scalar_value):\n",
    "    # Generate x values\n",
    "    x = np.linspace(-5, 15, 1000)\n",
    "    \n",
    "    # Calculate the probability density function (PDF) values for the Gaussian distribution\n",
    "    pdf_values = norm.pdf(x, 0, sigma) * scalar_value\n",
    "\n",
    "    uniform_xs = np.linspace(15, 20, 100)\n",
    "    uniform_ys = [(1.0 - scalar_value) / 5] * len(uniform_xs)\n",
    "    \n",
    "    # Plot the Gaussian curve\n",
    "    plt.plot(np.concatenate((x,uniform_xs)), np.concatenate((pdf_values, uniform_ys)), 'r-', lw=2)\n",
    "    \n",
    "    # Add labels and title\n",
    "    plt.xlabel('x')\n",
    "    plt.ylabel('Probability Density')\n",
    "    plt.title('Gaussian Distribution')\n",
    "    plt.ylim(0, 1.0)\n",
    "    plt.grid(True)\n",
    "    \n",
    "    # Show the plot\n",
    "    plt.show()"
   ]
  },
  {
   "cell_type": "code",
   "execution_count": 107,
   "id": "48468444-0b3b-45dd-86f4-0dbeb157ce5a",
   "metadata": {},
   "outputs": [
    {
     "data": {
      "application/vnd.jupyter.widget-view+json": {
       "model_id": "085a0522894f418f81d30f2f992cb280",
       "version_major": 2,
       "version_minor": 0
      },
      "text/plain": [
       "interactive(children=(FloatSlider(value=1.0, description='Sigma', max=2.0, min=0.1), FloatSlider(value=1.0, de…"
      ]
     },
     "metadata": {},
     "output_type": "display_data"
    }
   ],
   "source": [
    "# Define the slider\n",
    "sigma_slider = FloatSlider(value=1.0, min=0.1, max=2.0, step=0.1, description='Sigma')\n",
    "scalar_slider = FloatSlider(value=1.0, min=0.0, max=1.0, step=0.1, description='Scalar')\n",
    "\n",
    "# Display the interactive plot\n",
    "interact(plotMixed, sigma=sigma_slider, scalar_value=scalar_slider);"
   ]
  },
  {
   "cell_type": "code",
   "execution_count": 108,
   "id": "1e291c12-45b8-43e6-928f-c1c0f2d650fc",
   "metadata": {},
   "outputs": [],
   "source": [
    "def optimizeMixedDist(startUniform, endUniform, sigma):\n",
    "    uniformWidth = endUniform - startUniform\n",
    "    if uniformWidth == 0.0:\n",
    "        return 1.0\n",
    "    # Define the objective function to minimize\n",
    "    def objective(s):\n",
    "        scaledGaussianHeight = s * norm.pdf(0, 0, sigma)\n",
    "        \n",
    "        remainingArea = 1 - s\n",
    "        scaledUniformHeight = remainingArea / uniformWidth\n",
    "        \n",
    "        return abs(scaledGaussianHeight - scaledUniformHeight)\n",
    "    \n",
    "    # Use numerical optimization to find the optimal height of the uniform section\n",
    "    return minimize_scalar(objective, bounds=(0, 1), method='bounded').x\n"
   ]
  },
  {
   "cell_type": "code",
   "execution_count": 109,
   "id": "ebf54a35-0b95-4ed2-ae38-e0b8c417c343",
   "metadata": {},
   "outputs": [],
   "source": [
    "def plotOptimizedMixed(startUniform, endUniform, sigma):\n",
    "    optimalScalar = optimizeMixedDist(startUniform, endUniform, sigma)\n",
    "    print('optimalScalar:',optimalScalar)\n",
    "    \n",
    "    # Generate left normal values\n",
    "    xleft = np.linspace(startUniform-5, startUniform, 100)\n",
    "    pdf_values_left = norm.pdf(xleft, startUniform, sigma) * optimalScalar\n",
    "    \n",
    "    # Generate left normal values\n",
    "    xright = np.linspace(endUniform, endUniform+5, 100)\n",
    "    pdf_values_right = norm.pdf(xright, endUniform, sigma) * optimalScalar\n",
    "    \n",
    "    # Plot the Gaussian curve\n",
    "    plt.plot(np.concatenate((xleft,xright)), np.concatenate((pdf_values_left, pdf_values_right)), 'r-', lw=2)\n",
    "    \n",
    "    # Add labels and title\n",
    "    plt.xlabel('x')\n",
    "    plt.ylabel('Probability Density')\n",
    "    plt.title('Gaussian Distribution')\n",
    "    plt.xlim(-12, 12)\n",
    "    plt.ylim(0, 1.0)\n",
    "    plt.grid(True)\n",
    "    \n",
    "    # Show the plot\n",
    "    plt.show()"
   ]
  },
  {
   "cell_type": "code",
   "execution_count": 110,
   "id": "d322aa45-9abe-4fcb-b97d-d413a7929124",
   "metadata": {},
   "outputs": [
    {
     "data": {
      "application/vnd.jupyter.widget-view+json": {
       "model_id": "1c30432da0a8498cae98fb9f1d3f9b95",
       "version_major": 2,
       "version_minor": 0
      },
      "text/plain": [
       "interactive(children=(FloatSlider(value=-5.0, description='Start Uniform Value', max=0.0, min=-10.0), FloatSli…"
      ]
     },
     "metadata": {},
     "output_type": "display_data"
    }
   ],
   "source": [
    "# Define the slider\n",
    "sigma_slider = FloatSlider(value=1.0, min=0.1, max=2.0, step=0.1, description='Sigma')\n",
    "a_slider = FloatSlider(value=-5, min=-10, max=0, step=0.1, description='Start Uniform Value')\n",
    "b_slider = FloatSlider(value=5, min=0, max=10, step=0.1, description='End Uniform Value')\n",
    "\n",
    "# Display the interactive plot\n",
    "interact(plotOptimizedMixed, startUniform=a_slider, endUniform=b_slider, sigma=sigma_slider);"
   ]
  },
  {
   "cell_type": "code",
   "execution_count": 111,
   "id": "4d4ac64d-52d0-498a-9edb-b45cbb594566",
   "metadata": {},
   "outputs": [],
   "source": [
    "def sampleMixedDist():\n",
    "    whichDistToSample = np.random.random_sample()\n",
    "\n",
    "    if whichDistToSample <= optimalScalar:\n",
    "        # Sample gaussian\n",
    "        sampledValue = np.random.normal(0, sigma)\n",
    "        if sampledValue < 0.0:\n",
    "            sampledValue = A + sampledValue\n",
    "        else:\n",
    "            sampledValue = B + sampledValue\n",
    "    else:\n",
    "        # Sample uniform\n",
    "        sampledValue = np.random.uniform(A, B)\n",
    "    return sampledValue\n"
   ]
  },
  {
   "cell_type": "code",
   "execution_count": 112,
   "id": "078b0f97-a6ce-4984-93b1-973d37315922",
   "metadata": {},
   "outputs": [
    {
     "data": {
      "image/png": "[encoded data removed]",
      "text/plain": [
       "<Figure size 640x480 with 1 Axes>"
      ]
     },
     "metadata": {},
     "output_type": "display_data"
    }
   ],
   "source": [
    "samples = []\n",
    "for i in range(500000):\n",
    "    samples.append(sampleMixedDist())\n",
    "    \n",
    "plt.hist(samples, bins=90, density=True);"
   ]
  }
 ],
 "metadata": {
  "kernelspec": {
   "display_name": "Python 3 (ipykernel)",
   "language": "python",
   "name": "python3"
  },
  "language_info": {
   "codemirror_mode": {
    "name": "ipython",
    "version": 3
   },
   "file_extension": ".py",
   "mimetype": "text/x-python",
   "name": "python",
   "nbconvert_exporter": "python",
   "pygments_lexer": "ipython3",
   "version": "3.12.2"
  }
 },
 "nbformat": 4,
 "nbformat_minor": 5
}
